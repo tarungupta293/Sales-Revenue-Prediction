{
 "cells": [
  {
   "cell_type": "code",
   "execution_count": 10,
   "id": "f396b55b",
   "metadata": {},
   "outputs": [],
   "source": [
    "# Import pandas and glob\n",
    "import pandas as pd\n",
    "import glob"
   ]
  },
  {
   "cell_type": "code",
   "execution_count": 12,
   "id": "a25101d7",
   "metadata": {},
   "outputs": [],
   "source": [
    "# import all the filtered files here\n",
    "file_pattern = 'D:\\\\Tarun\\\\UTS\\\\Subjects\\\\ADV ML\\\\output\\\\*.csv'"
   ]
  },
  {
   "cell_type": "code",
   "execution_count": 13,
   "id": "f90a208a",
   "metadata": {},
   "outputs": [],
   "source": [
    "file_list = glob.glob(file_pattern)"
   ]
  },
  {
   "cell_type": "code",
   "execution_count": 14,
   "id": "da651dd3",
   "metadata": {},
   "outputs": [],
   "source": [
    "dfs = []"
   ]
  },
  {
   "cell_type": "code",
   "execution_count": 15,
   "id": "9f7fbd22",
   "metadata": {},
   "outputs": [],
   "source": [
    "# merge all the datasets into one combined dataset\n",
    "for file in file_list:\n",
    "    df = pd.read_csv(file)\n",
    "    dfs.append(df)"
   ]
  },
  {
   "cell_type": "code",
   "execution_count": 16,
   "id": "0a1a446a",
   "metadata": {},
   "outputs": [],
   "source": [
    "combined_df = pd.concat(dfs, ignore_index=True)"
   ]
  },
  {
   "cell_type": "code",
   "execution_count": 17,
   "id": "b89dbc7e",
   "metadata": {},
   "outputs": [
    {
     "data": {
      "text/plain": [
       "(1959980, 15)"
      ]
     },
     "execution_count": 17,
     "metadata": {},
     "output_type": "execute_result"
    }
   ],
   "source": [
    "combined_df.shape"
   ]
  },
  {
   "cell_type": "code",
   "execution_count": 9,
   "id": "c9e28ecc",
   "metadata": {},
   "outputs": [
    {
     "data": {
      "text/html": [
       "<div>\n",
       "<style scoped>\n",
       "    .dataframe tbody tr th:only-of-type {\n",
       "        vertical-align: middle;\n",
       "    }\n",
       "\n",
       "    .dataframe tbody tr th {\n",
       "        vertical-align: top;\n",
       "    }\n",
       "\n",
       "    .dataframe thead th {\n",
       "        text-align: right;\n",
       "    }\n",
       "</style>\n",
       "<table border=\"1\" class=\"dataframe\">\n",
       "  <thead>\n",
       "    <tr style=\"text-align: right;\">\n",
       "      <th></th>\n",
       "      <th>Unnamed: 0</th>\n",
       "      <th>store_id</th>\n",
       "      <th>item_id</th>\n",
       "      <th>wm_yr_wk</th>\n",
       "      <th>sell_price</th>\n",
       "      <th>date</th>\n",
       "      <th>d</th>\n",
       "      <th>event_name</th>\n",
       "      <th>event_type</th>\n",
       "      <th>id</th>\n",
       "      <th>dept_id</th>\n",
       "      <th>cat_id</th>\n",
       "      <th>state_id</th>\n",
       "      <th>sale</th>\n",
       "      <th>sales_revenue</th>\n",
       "    </tr>\n",
       "  </thead>\n",
       "  <tbody>\n",
       "    <tr>\n",
       "      <th>0</th>\n",
       "      <td>0</td>\n",
       "      <td>CA_1</td>\n",
       "      <td>HOBBIES_1_001</td>\n",
       "      <td>11328</td>\n",
       "      <td>8.26</td>\n",
       "      <td>2013-08-08</td>\n",
       "      <td>923</td>\n",
       "      <td>Eid al-Fitr</td>\n",
       "      <td>Religious</td>\n",
       "      <td>HOBBIES_1_001_CA_1_evaluation</td>\n",
       "      <td>HOBBIES_1</td>\n",
       "      <td>HOBBIES</td>\n",
       "      <td>CA</td>\n",
       "      <td>0</td>\n",
       "      <td>0.00</td>\n",
       "    </tr>\n",
       "    <tr>\n",
       "      <th>1</th>\n",
       "      <td>1</td>\n",
       "      <td>CA_1</td>\n",
       "      <td>HOBBIES_1_001</td>\n",
       "      <td>11332</td>\n",
       "      <td>8.26</td>\n",
       "      <td>2013-09-02</td>\n",
       "      <td>948</td>\n",
       "      <td>LaborDay</td>\n",
       "      <td>National</td>\n",
       "      <td>HOBBIES_1_001_CA_1_evaluation</td>\n",
       "      <td>HOBBIES_1</td>\n",
       "      <td>HOBBIES</td>\n",
       "      <td>CA</td>\n",
       "      <td>1</td>\n",
       "      <td>8.26</td>\n",
       "    </tr>\n",
       "    <tr>\n",
       "      <th>2</th>\n",
       "      <td>2</td>\n",
       "      <td>CA_1</td>\n",
       "      <td>HOBBIES_1_001</td>\n",
       "      <td>11338</td>\n",
       "      <td>8.26</td>\n",
       "      <td>2013-10-14</td>\n",
       "      <td>990</td>\n",
       "      <td>ColumbusDay</td>\n",
       "      <td>National</td>\n",
       "      <td>HOBBIES_1_001_CA_1_evaluation</td>\n",
       "      <td>HOBBIES_1</td>\n",
       "      <td>HOBBIES</td>\n",
       "      <td>CA</td>\n",
       "      <td>0</td>\n",
       "      <td>0.00</td>\n",
       "    </tr>\n",
       "    <tr>\n",
       "      <th>3</th>\n",
       "      <td>3</td>\n",
       "      <td>CA_1</td>\n",
       "      <td>HOBBIES_1_001</td>\n",
       "      <td>11338</td>\n",
       "      <td>8.26</td>\n",
       "      <td>2013-10-15</td>\n",
       "      <td>991</td>\n",
       "      <td>EidAlAdha</td>\n",
       "      <td>Religious</td>\n",
       "      <td>HOBBIES_1_001_CA_1_evaluation</td>\n",
       "      <td>HOBBIES_1</td>\n",
       "      <td>HOBBIES</td>\n",
       "      <td>CA</td>\n",
       "      <td>0</td>\n",
       "      <td>0.00</td>\n",
       "    </tr>\n",
       "    <tr>\n",
       "      <th>4</th>\n",
       "      <td>4</td>\n",
       "      <td>CA_1</td>\n",
       "      <td>HOBBIES_1_001</td>\n",
       "      <td>11340</td>\n",
       "      <td>8.26</td>\n",
       "      <td>2013-10-31</td>\n",
       "      <td>1007</td>\n",
       "      <td>Halloween</td>\n",
       "      <td>Cultural</td>\n",
       "      <td>HOBBIES_1_001_CA_1_evaluation</td>\n",
       "      <td>HOBBIES_1</td>\n",
       "      <td>HOBBIES</td>\n",
       "      <td>CA</td>\n",
       "      <td>0</td>\n",
       "      <td>0.00</td>\n",
       "    </tr>\n",
       "  </tbody>\n",
       "</table>\n",
       "</div>"
      ],
      "text/plain": [
       "   Unnamed: 0 store_id        item_id  wm_yr_wk  sell_price        date     d  \\\n",
       "0           0     CA_1  HOBBIES_1_001     11328        8.26  2013-08-08   923   \n",
       "1           1     CA_1  HOBBIES_1_001     11332        8.26  2013-09-02   948   \n",
       "2           2     CA_1  HOBBIES_1_001     11338        8.26  2013-10-14   990   \n",
       "3           3     CA_1  HOBBIES_1_001     11338        8.26  2013-10-15   991   \n",
       "4           4     CA_1  HOBBIES_1_001     11340        8.26  2013-10-31  1007   \n",
       "\n",
       "    event_name event_type                             id    dept_id   cat_id  \\\n",
       "0  Eid al-Fitr  Religious  HOBBIES_1_001_CA_1_evaluation  HOBBIES_1  HOBBIES   \n",
       "1     LaborDay   National  HOBBIES_1_001_CA_1_evaluation  HOBBIES_1  HOBBIES   \n",
       "2  ColumbusDay   National  HOBBIES_1_001_CA_1_evaluation  HOBBIES_1  HOBBIES   \n",
       "3    EidAlAdha  Religious  HOBBIES_1_001_CA_1_evaluation  HOBBIES_1  HOBBIES   \n",
       "4    Halloween   Cultural  HOBBIES_1_001_CA_1_evaluation  HOBBIES_1  HOBBIES   \n",
       "\n",
       "  state_id  sale  sales_revenue  \n",
       "0       CA     0           0.00  \n",
       "1       CA     1           8.26  \n",
       "2       CA     0           0.00  \n",
       "3       CA     0           0.00  \n",
       "4       CA     0           0.00  "
      ]
     },
     "execution_count": 9,
     "metadata": {},
     "output_type": "execute_result"
    }
   ],
   "source": [
    "combined_df.head(5)"
   ]
  },
  {
   "cell_type": "code",
   "execution_count": 10,
   "id": "d1ad5cd2",
   "metadata": {},
   "outputs": [
    {
     "data": {
      "text/plain": [
       "Unnamed: 0         int64\n",
       "store_id          object\n",
       "item_id           object\n",
       "wm_yr_wk           int64\n",
       "sell_price       float64\n",
       "date              object\n",
       "d                  int64\n",
       "event_name        object\n",
       "event_type        object\n",
       "id                object\n",
       "dept_id           object\n",
       "cat_id            object\n",
       "state_id          object\n",
       "sale               int64\n",
       "sales_revenue    float64\n",
       "dtype: object"
      ]
     },
     "execution_count": 10,
     "metadata": {},
     "output_type": "execute_result"
    }
   ],
   "source": [
    "combined_df.dtypes"
   ]
  },
  {
   "cell_type": "code",
   "execution_count": 11,
   "id": "61273299",
   "metadata": {},
   "outputs": [],
   "source": [
    "# check if any record is having the value greater than 1541 as this data is not needed.\n",
    "combined_df = combined_df[combined_df['d'] <= 1541]"
   ]
  },
  {
   "cell_type": "code",
   "execution_count": 12,
   "id": "7caafbb0",
   "metadata": {},
   "outputs": [
    {
     "data": {
      "text/plain": [
       "(1959980, 15)"
      ]
     },
     "execution_count": 12,
     "metadata": {},
     "output_type": "execute_result"
    }
   ],
   "source": [
    "combined_df.shape"
   ]
  },
  {
   "cell_type": "code",
   "execution_count": 49,
   "id": "de216528",
   "metadata": {},
   "outputs": [],
   "source": [
    "pd.set_option('display.max_columns', None)\n",
    "pd.set_option('display.max_rows', None)"
   ]
  },
  {
   "cell_type": "code",
   "execution_count": 45,
   "id": "0acc93c3",
   "metadata": {},
   "outputs": [],
   "source": [
    "# check if any data is present having date greater than 2015-04-18\n",
    "combined_df_temp = combined_df[combined_df['date'] > '2015-04-18']"
   ]
  },
  {
   "cell_type": "code",
   "execution_count": 47,
   "id": "a1b16b7e",
   "metadata": {},
   "outputs": [
    {
     "data": {
      "text/plain": [
       "(0, 15)"
      ]
     },
     "execution_count": 47,
     "metadata": {},
     "output_type": "execute_result"
    }
   ],
   "source": [
    "combined_df_temp.shape"
   ]
  },
  {
   "cell_type": "code",
   "execution_count": 18,
   "id": "73c254d9",
   "metadata": {},
   "outputs": [],
   "source": [
    "# create a new dataframe with the required features.\n",
    "df = combined_df[['store_id', 'item_id', 'date', 'sales_revenue']]"
   ]
  },
  {
   "cell_type": "code",
   "execution_count": 32,
   "id": "b4f989a9",
   "metadata": {},
   "outputs": [
    {
     "data": {
      "text/html": [
       "<div>\n",
       "<style scoped>\n",
       "    .dataframe tbody tr th:only-of-type {\n",
       "        vertical-align: middle;\n",
       "    }\n",
       "\n",
       "    .dataframe tbody tr th {\n",
       "        vertical-align: top;\n",
       "    }\n",
       "\n",
       "    .dataframe thead th {\n",
       "        text-align: right;\n",
       "    }\n",
       "</style>\n",
       "<table border=\"1\" class=\"dataframe\">\n",
       "  <thead>\n",
       "    <tr style=\"text-align: right;\">\n",
       "      <th></th>\n",
       "      <th>store_id</th>\n",
       "      <th>item_id</th>\n",
       "      <th>date</th>\n",
       "      <th>sales_revenue</th>\n",
       "    </tr>\n",
       "  </thead>\n",
       "  <tbody>\n",
       "    <tr>\n",
       "      <th>0</th>\n",
       "      <td>CA_1</td>\n",
       "      <td>HOBBIES_1_001</td>\n",
       "      <td>2013-08-08</td>\n",
       "      <td>0.00</td>\n",
       "    </tr>\n",
       "    <tr>\n",
       "      <th>1</th>\n",
       "      <td>CA_1</td>\n",
       "      <td>HOBBIES_1_001</td>\n",
       "      <td>2013-09-02</td>\n",
       "      <td>8.26</td>\n",
       "    </tr>\n",
       "    <tr>\n",
       "      <th>2</th>\n",
       "      <td>CA_1</td>\n",
       "      <td>HOBBIES_1_001</td>\n",
       "      <td>2013-10-14</td>\n",
       "      <td>0.00</td>\n",
       "    </tr>\n",
       "    <tr>\n",
       "      <th>3</th>\n",
       "      <td>CA_1</td>\n",
       "      <td>HOBBIES_1_001</td>\n",
       "      <td>2013-10-15</td>\n",
       "      <td>0.00</td>\n",
       "    </tr>\n",
       "    <tr>\n",
       "      <th>4</th>\n",
       "      <td>CA_1</td>\n",
       "      <td>HOBBIES_1_001</td>\n",
       "      <td>2013-10-31</td>\n",
       "      <td>0.00</td>\n",
       "    </tr>\n",
       "  </tbody>\n",
       "</table>\n",
       "</div>"
      ],
      "text/plain": [
       "  store_id        item_id       date  sales_revenue\n",
       "0     CA_1  HOBBIES_1_001 2013-08-08           0.00\n",
       "1     CA_1  HOBBIES_1_001 2013-09-02           8.26\n",
       "2     CA_1  HOBBIES_1_001 2013-10-14           0.00\n",
       "3     CA_1  HOBBIES_1_001 2013-10-15           0.00\n",
       "4     CA_1  HOBBIES_1_001 2013-10-31           0.00"
      ]
     },
     "execution_count": 32,
     "metadata": {},
     "output_type": "execute_result"
    }
   ],
   "source": [
    "df.head(5)"
   ]
  },
  {
   "cell_type": "code",
   "execution_count": 33,
   "id": "8c931e13",
   "metadata": {},
   "outputs": [],
   "source": [
    "# convert the date column to datetime format.\n",
    "df = df.copy()\n",
    "df['date'] = pd.to_datetime(df['date'])"
   ]
  },
  {
   "cell_type": "code",
   "execution_count": 11,
   "id": "d78d6a48",
   "metadata": {},
   "outputs": [
    {
     "data": {
      "text/plain": [
       "store_id         0\n",
       "item_id          0\n",
       "date             0\n",
       "sales_revenue    0\n",
       "dtype: int64"
      ]
     },
     "execution_count": 11,
     "metadata": {},
     "output_type": "execute_result"
    }
   ],
   "source": [
    "df.isna().sum()"
   ]
  },
  {
   "cell_type": "code",
   "execution_count": 34,
   "id": "1174c96c",
   "metadata": {},
   "outputs": [],
   "source": [
    "# split the datetime into date, month and year\n",
    "df['year'] = df['date'].dt.year\n",
    "df['month'] = df['date'].dt.month\n",
    "df['day'] = df['date'].dt.day"
   ]
  },
  {
   "cell_type": "code",
   "execution_count": 35,
   "id": "0563bbdf",
   "metadata": {},
   "outputs": [],
   "source": [
    "# Perform the label Enconding on the store_id and item_id features.\n",
    "from sklearn.preprocessing import LabelEncoder\n",
    "le_store_id = LabelEncoder()\n",
    "le_item_id = LabelEncoder()"
   ]
  },
  {
   "cell_type": "code",
   "execution_count": 36,
   "id": "5024bab8",
   "metadata": {},
   "outputs": [],
   "source": [
    "df['le_store_id'] = le_store_id.fit_transform(df['store_id'])\n",
    "df['le_item_id'] = le_item_id.fit_transform(df['item_id'])"
   ]
  },
  {
   "cell_type": "code",
   "execution_count": 55,
   "id": "e41655ca",
   "metadata": {},
   "outputs": [
    {
     "data": {
      "text/html": [
       "<div>\n",
       "<style scoped>\n",
       "    .dataframe tbody tr th:only-of-type {\n",
       "        vertical-align: middle;\n",
       "    }\n",
       "\n",
       "    .dataframe tbody tr th {\n",
       "        vertical-align: top;\n",
       "    }\n",
       "\n",
       "    .dataframe thead th {\n",
       "        text-align: right;\n",
       "    }\n",
       "</style>\n",
       "<table border=\"1\" class=\"dataframe\">\n",
       "  <thead>\n",
       "    <tr style=\"text-align: right;\">\n",
       "      <th></th>\n",
       "      <th>sales_revenue</th>\n",
       "      <th>year</th>\n",
       "      <th>month</th>\n",
       "      <th>day</th>\n",
       "      <th>le_store_id</th>\n",
       "      <th>le_item_id</th>\n",
       "    </tr>\n",
       "  </thead>\n",
       "  <tbody>\n",
       "    <tr>\n",
       "      <th>0</th>\n",
       "      <td>0.00</td>\n",
       "      <td>2013</td>\n",
       "      <td>8</td>\n",
       "      <td>8</td>\n",
       "      <td>0</td>\n",
       "      <td>1437</td>\n",
       "    </tr>\n",
       "    <tr>\n",
       "      <th>1</th>\n",
       "      <td>8.26</td>\n",
       "      <td>2013</td>\n",
       "      <td>9</td>\n",
       "      <td>2</td>\n",
       "      <td>0</td>\n",
       "      <td>1437</td>\n",
       "    </tr>\n",
       "    <tr>\n",
       "      <th>2</th>\n",
       "      <td>0.00</td>\n",
       "      <td>2013</td>\n",
       "      <td>10</td>\n",
       "      <td>14</td>\n",
       "      <td>0</td>\n",
       "      <td>1437</td>\n",
       "    </tr>\n",
       "    <tr>\n",
       "      <th>3</th>\n",
       "      <td>0.00</td>\n",
       "      <td>2013</td>\n",
       "      <td>10</td>\n",
       "      <td>15</td>\n",
       "      <td>0</td>\n",
       "      <td>1437</td>\n",
       "    </tr>\n",
       "    <tr>\n",
       "      <th>4</th>\n",
       "      <td>0.00</td>\n",
       "      <td>2013</td>\n",
       "      <td>10</td>\n",
       "      <td>31</td>\n",
       "      <td>0</td>\n",
       "      <td>1437</td>\n",
       "    </tr>\n",
       "  </tbody>\n",
       "</table>\n",
       "</div>"
      ],
      "text/plain": [
       "   sales_revenue  year  month  day  le_store_id  le_item_id\n",
       "0           0.00  2013      8    8            0        1437\n",
       "1           8.26  2013      9    2            0        1437\n",
       "2           0.00  2013     10   14            0        1437\n",
       "3           0.00  2013     10   15            0        1437\n",
       "4           0.00  2013     10   31            0        1437"
      ]
     },
     "execution_count": 55,
     "metadata": {},
     "output_type": "execute_result"
    }
   ],
   "source": [
    "df.head(5)"
   ]
  },
  {
   "cell_type": "code",
   "execution_count": 38,
   "id": "0217ebb9",
   "metadata": {},
   "outputs": [],
   "source": [
    "# encode the store id with original and encoding values. this will help in the service api.\n",
    "encoding_map_store_id = dict(zip(df['store_id'], df['le_store_id']))"
   ]
  },
  {
   "cell_type": "code",
   "execution_count": 41,
   "id": "633a1c2d",
   "metadata": {},
   "outputs": [
    {
     "data": {
      "text/plain": [
       "2"
      ]
     },
     "execution_count": 41,
     "metadata": {},
     "output_type": "execute_result"
    }
   ],
   "source": [
    "encoding_map_store_id['CA_3']"
   ]
  },
  {
   "cell_type": "code",
   "execution_count": 42,
   "id": "ffce8c10",
   "metadata": {},
   "outputs": [],
   "source": [
    "# encode the item id with original and encoding values. this will help in the service api.\n",
    "encoding_map_item_id = dict(zip(df['item_id'], df['le_item_id']))"
   ]
  },
  {
   "cell_type": "code",
   "execution_count": 43,
   "id": "7b3e9b05",
   "metadata": {},
   "outputs": [
    {
     "data": {
      "text/plain": [
       "1437"
      ]
     },
     "execution_count": 43,
     "metadata": {},
     "output_type": "execute_result"
    }
   ],
   "source": [
    "encoding_map_item_id['HOBBIES_1_001']"
   ]
  },
  {
   "cell_type": "code",
   "execution_count": 44,
   "id": "f6def850",
   "metadata": {},
   "outputs": [],
   "source": [
    "# drop the columns which are not needed now.\n",
    "df = df.drop(['store_id', 'item_id', 'date'], axis='columns')"
   ]
  },
  {
   "cell_type": "code",
   "execution_count": 45,
   "id": "efe11404",
   "metadata": {},
   "outputs": [],
   "source": [
    "# split the dataset into X and Y dataset.\n",
    "df_X_train = df.drop(['sales_revenue'], axis='columns')\n",
    "df_Y_train = df.sales_revenue"
   ]
  },
  {
   "cell_type": "code",
   "execution_count": 46,
   "id": "99ea4bcc",
   "metadata": {},
   "outputs": [
    {
     "data": {
      "text/html": [
       "<div>\n",
       "<style scoped>\n",
       "    .dataframe tbody tr th:only-of-type {\n",
       "        vertical-align: middle;\n",
       "    }\n",
       "\n",
       "    .dataframe tbody tr th {\n",
       "        vertical-align: top;\n",
       "    }\n",
       "\n",
       "    .dataframe thead th {\n",
       "        text-align: right;\n",
       "    }\n",
       "</style>\n",
       "<table border=\"1\" class=\"dataframe\">\n",
       "  <thead>\n",
       "    <tr style=\"text-align: right;\">\n",
       "      <th></th>\n",
       "      <th>year</th>\n",
       "      <th>month</th>\n",
       "      <th>day</th>\n",
       "      <th>le_store_id</th>\n",
       "      <th>le_item_id</th>\n",
       "    </tr>\n",
       "  </thead>\n",
       "  <tbody>\n",
       "    <tr>\n",
       "      <th>975799</th>\n",
       "      <td>2012</td>\n",
       "      <td>11</td>\n",
       "      <td>11</td>\n",
       "      <td>3</td>\n",
       "      <td>2061</td>\n",
       "    </tr>\n",
       "    <tr>\n",
       "      <th>1898079</th>\n",
       "      <td>2014</td>\n",
       "      <td>10</td>\n",
       "      <td>13</td>\n",
       "      <td>9</td>\n",
       "      <td>1755</td>\n",
       "    </tr>\n",
       "    <tr>\n",
       "      <th>1397088</th>\n",
       "      <td>2014</td>\n",
       "      <td>4</td>\n",
       "      <td>22</td>\n",
       "      <td>6</td>\n",
       "      <td>477</td>\n",
       "    </tr>\n",
       "    <tr>\n",
       "      <th>575586</th>\n",
       "      <td>2015</td>\n",
       "      <td>4</td>\n",
       "      <td>11</td>\n",
       "      <td>2</td>\n",
       "      <td>257</td>\n",
       "    </tr>\n",
       "    <tr>\n",
       "      <th>1179115</th>\n",
       "      <td>2013</td>\n",
       "      <td>10</td>\n",
       "      <td>15</td>\n",
       "      <td>4</td>\n",
       "      <td>2902</td>\n",
       "    </tr>\n",
       "  </tbody>\n",
       "</table>\n",
       "</div>"
      ],
      "text/plain": [
       "         year  month  day  le_store_id  le_item_id\n",
       "975799   2012     11   11            3        2061\n",
       "1898079  2014     10   13            9        1755\n",
       "1397088  2014      4   22            6         477\n",
       "575586   2015      4   11            2         257\n",
       "1179115  2013     10   15            4        2902"
      ]
     },
     "execution_count": 46,
     "metadata": {},
     "output_type": "execute_result"
    }
   ],
   "source": [
    "# Perform the train-test split for data modelling on the dataset.\n",
    "from sklearn.model_selection import train_test_split\n",
    "X_train, X_test, Y_train, Y_test = train_test_split(df_X_train, df_Y_train, train_size=0.8)\n",
    "X_test.head(5)"
   ]
  },
  {
   "cell_type": "code",
   "execution_count": 22,
   "id": "11a2d767",
   "metadata": {},
   "outputs": [],
   "source": [
    "# Perform the Random Forest Regressor model on the dataset and check its MSE value and accuracy.\n",
    "from sklearn.ensemble import RandomForestRegressor"
   ]
  },
  {
   "cell_type": "code",
   "execution_count": 23,
   "id": "2fe9390b",
   "metadata": {},
   "outputs": [],
   "source": [
    "rf_model = RandomForestRegressor(n_estimators=100, random_state=42)"
   ]
  },
  {
   "cell_type": "code",
   "execution_count": 24,
   "id": "d9b7211b",
   "metadata": {},
   "outputs": [
    {
     "data": {
      "text/html": [
       "<style>#sk-container-id-1 {color: black;background-color: white;}#sk-container-id-1 pre{padding: 0;}#sk-container-id-1 div.sk-toggleable {background-color: white;}#sk-container-id-1 label.sk-toggleable__label {cursor: pointer;display: block;width: 100%;margin-bottom: 0;padding: 0.3em;box-sizing: border-box;text-align: center;}#sk-container-id-1 label.sk-toggleable__label-arrow:before {content: \"▸\";float: left;margin-right: 0.25em;color: #696969;}#sk-container-id-1 label.sk-toggleable__label-arrow:hover:before {color: black;}#sk-container-id-1 div.sk-estimator:hover label.sk-toggleable__label-arrow:before {color: black;}#sk-container-id-1 div.sk-toggleable__content {max-height: 0;max-width: 0;overflow: hidden;text-align: left;background-color: #f0f8ff;}#sk-container-id-1 div.sk-toggleable__content pre {margin: 0.2em;color: black;border-radius: 0.25em;background-color: #f0f8ff;}#sk-container-id-1 input.sk-toggleable__control:checked~div.sk-toggleable__content {max-height: 200px;max-width: 100%;overflow: auto;}#sk-container-id-1 input.sk-toggleable__control:checked~label.sk-toggleable__label-arrow:before {content: \"▾\";}#sk-container-id-1 div.sk-estimator input.sk-toggleable__control:checked~label.sk-toggleable__label {background-color: #d4ebff;}#sk-container-id-1 div.sk-label input.sk-toggleable__control:checked~label.sk-toggleable__label {background-color: #d4ebff;}#sk-container-id-1 input.sk-hidden--visually {border: 0;clip: rect(1px 1px 1px 1px);clip: rect(1px, 1px, 1px, 1px);height: 1px;margin: -1px;overflow: hidden;padding: 0;position: absolute;width: 1px;}#sk-container-id-1 div.sk-estimator {font-family: monospace;background-color: #f0f8ff;border: 1px dotted black;border-radius: 0.25em;box-sizing: border-box;margin-bottom: 0.5em;}#sk-container-id-1 div.sk-estimator:hover {background-color: #d4ebff;}#sk-container-id-1 div.sk-parallel-item::after {content: \"\";width: 100%;border-bottom: 1px solid gray;flex-grow: 1;}#sk-container-id-1 div.sk-label:hover label.sk-toggleable__label {background-color: #d4ebff;}#sk-container-id-1 div.sk-serial::before {content: \"\";position: absolute;border-left: 1px solid gray;box-sizing: border-box;top: 0;bottom: 0;left: 50%;z-index: 0;}#sk-container-id-1 div.sk-serial {display: flex;flex-direction: column;align-items: center;background-color: white;padding-right: 0.2em;padding-left: 0.2em;position: relative;}#sk-container-id-1 div.sk-item {position: relative;z-index: 1;}#sk-container-id-1 div.sk-parallel {display: flex;align-items: stretch;justify-content: center;background-color: white;position: relative;}#sk-container-id-1 div.sk-item::before, #sk-container-id-1 div.sk-parallel-item::before {content: \"\";position: absolute;border-left: 1px solid gray;box-sizing: border-box;top: 0;bottom: 0;left: 50%;z-index: -1;}#sk-container-id-1 div.sk-parallel-item {display: flex;flex-direction: column;z-index: 1;position: relative;background-color: white;}#sk-container-id-1 div.sk-parallel-item:first-child::after {align-self: flex-end;width: 50%;}#sk-container-id-1 div.sk-parallel-item:last-child::after {align-self: flex-start;width: 50%;}#sk-container-id-1 div.sk-parallel-item:only-child::after {width: 0;}#sk-container-id-1 div.sk-dashed-wrapped {border: 1px dashed gray;margin: 0 0.4em 0.5em 0.4em;box-sizing: border-box;padding-bottom: 0.4em;background-color: white;}#sk-container-id-1 div.sk-label label {font-family: monospace;font-weight: bold;display: inline-block;line-height: 1.2em;}#sk-container-id-1 div.sk-label-container {text-align: center;}#sk-container-id-1 div.sk-container {/* jupyter's `normalize.less` sets `[hidden] { display: none; }` but bootstrap.min.css set `[hidden] { display: none !important; }` so we also need the `!important` here to be able to override the default hidden behavior on the sphinx rendered scikit-learn.org. See: https://github.com/scikit-learn/scikit-learn/issues/21755 */display: inline-block !important;position: relative;}#sk-container-id-1 div.sk-text-repr-fallback {display: none;}</style><div id=\"sk-container-id-1\" class=\"sk-top-container\"><div class=\"sk-text-repr-fallback\"><pre>RandomForestRegressor(random_state=42)</pre><b>In a Jupyter environment, please rerun this cell to show the HTML representation or trust the notebook. <br />On GitHub, the HTML representation is unable to render, please try loading this page with nbviewer.org.</b></div><div class=\"sk-container\" hidden><div class=\"sk-item\"><div class=\"sk-estimator sk-toggleable\"><input class=\"sk-toggleable__control sk-hidden--visually\" id=\"sk-estimator-id-1\" type=\"checkbox\" checked><label for=\"sk-estimator-id-1\" class=\"sk-toggleable__label sk-toggleable__label-arrow\">RandomForestRegressor</label><div class=\"sk-toggleable__content\"><pre>RandomForestRegressor(random_state=42)</pre></div></div></div></div></div>"
      ],
      "text/plain": [
       "RandomForestRegressor(random_state=42)"
      ]
     },
     "execution_count": 24,
     "metadata": {},
     "output_type": "execute_result"
    }
   ],
   "source": [
    "rf_model.fit(X_train, Y_train)"
   ]
  },
  {
   "cell_type": "code",
   "execution_count": 25,
   "id": "489122c5",
   "metadata": {},
   "outputs": [],
   "source": [
    "predictions = rf_model.predict(X_test)"
   ]
  },
  {
   "cell_type": "code",
   "execution_count": 26,
   "id": "bcc28c90",
   "metadata": {},
   "outputs": [],
   "source": [
    "from sklearn.metrics import mean_squared_error"
   ]
  },
  {
   "cell_type": "code",
   "execution_count": 27,
   "id": "2d3aff81",
   "metadata": {},
   "outputs": [],
   "source": [
    "mse = mean_squared_error(Y_test, predictions)"
   ]
  },
  {
   "cell_type": "code",
   "execution_count": 28,
   "id": "2417e08a",
   "metadata": {},
   "outputs": [
    {
     "data": {
      "text/plain": [
       "51.14164121132908"
      ]
     },
     "execution_count": 28,
     "metadata": {},
     "output_type": "execute_result"
    }
   ],
   "source": [
    "mse"
   ]
  },
  {
   "cell_type": "code",
   "execution_count": 29,
   "id": "ab307815",
   "metadata": {},
   "outputs": [
    {
     "data": {
      "text/plain": [
       "0.4640421804867597"
      ]
     },
     "execution_count": 29,
     "metadata": {},
     "output_type": "execute_result"
    }
   ],
   "source": [
    "rf_model.score(X_test, Y_test)"
   ]
  },
  {
   "cell_type": "code",
   "execution_count": 83,
   "id": "2754c9fd",
   "metadata": {},
   "outputs": [
    {
     "name": "stdout",
     "output_type": "stream",
     "text": [
      "Requirement already satisfied: fastapi in d:\\tarun\\anaconda3\\lib\\site-packages (0.103.2)\n",
      "Requirement already satisfied: pydantic!=1.8,!=1.8.1,!=2.0.0,!=2.0.1,!=2.1.0,<3.0.0,>=1.7.4 in d:\\tarun\\anaconda3\\lib\\site-packages (from fastapi) (2.4.2)\n",
      "Requirement already satisfied: anyio<4.0.0,>=3.7.1 in d:\\tarun\\anaconda3\\lib\\site-packages (from fastapi) (3.7.1)\n",
      "Requirement already satisfied: typing-extensions>=4.5.0 in d:\\tarun\\anaconda3\\lib\\site-packages (from fastapi) (4.7.1)\n",
      "Requirement already satisfied: starlette<0.28.0,>=0.27.0 in d:\\tarun\\anaconda3\\lib\\site-packages (from fastapi) (0.27.0)\n",
      "Requirement already satisfied: sniffio>=1.1 in d:\\tarun\\anaconda3\\lib\\site-packages (from anyio<4.0.0,>=3.7.1->fastapi) (1.2.0)\n",
      "Requirement already satisfied: idna>=2.8 in d:\\tarun\\anaconda3\\lib\\site-packages (from anyio<4.0.0,>=3.7.1->fastapi) (3.4)\n",
      "Requirement already satisfied: exceptiongroup in d:\\tarun\\anaconda3\\lib\\site-packages (from anyio<4.0.0,>=3.7.1->fastapi) (1.1.3)\n",
      "Requirement already satisfied: pydantic-core==2.10.1 in d:\\tarun\\anaconda3\\lib\\site-packages (from pydantic!=1.8,!=1.8.1,!=2.0.0,!=2.0.1,!=2.1.0,<3.0.0,>=1.7.4->fastapi) (2.10.1)\n",
      "Requirement already satisfied: annotated-types>=0.4.0 in d:\\tarun\\anaconda3\\lib\\site-packages (from pydantic!=1.8,!=1.8.1,!=2.0.0,!=2.0.1,!=2.1.0,<3.0.0,>=1.7.4->fastapi) (0.6.0)\n",
      "Note: you may need to restart the kernel to use updated packages.\n"
     ]
    }
   ],
   "source": [
    "# pip install fastapi"
   ]
  },
  {
   "cell_type": "code",
   "execution_count": 85,
   "id": "94b12638",
   "metadata": {},
   "outputs": [
    {
     "name": "stdout",
     "output_type": "stream",
     "text": [
      "Requirement already satisfied: uvicorn[standard] in d:\\tarun\\anaconda3\\lib\\site-packages (0.23.2)Note: you may need to restart the kernel to use updated packages.\n",
      "\n",
      "Requirement already satisfied: h11>=0.8 in d:\\tarun\\anaconda3\\lib\\site-packages (from uvicorn[standard]) (0.14.0)\n",
      "Requirement already satisfied: typing-extensions>=4.0 in d:\\tarun\\anaconda3\\lib\\site-packages (from uvicorn[standard]) (4.7.1)\n",
      "Requirement already satisfied: click>=7.0 in d:\\tarun\\anaconda3\\lib\\site-packages (from uvicorn[standard]) (8.0.4)\n",
      "Requirement already satisfied: websockets>=10.4 in d:\\tarun\\anaconda3\\lib\\site-packages (from uvicorn[standard]) (11.0.3)\n",
      "Requirement already satisfied: colorama>=0.4 in d:\\tarun\\anaconda3\\lib\\site-packages (from uvicorn[standard]) (0.4.6)\n",
      "Requirement already satisfied: httptools>=0.5.0 in d:\\tarun\\anaconda3\\lib\\site-packages (from uvicorn[standard]) (0.6.0)\n",
      "Requirement already satisfied: watchfiles>=0.13 in d:\\tarun\\anaconda3\\lib\\site-packages (from uvicorn[standard]) (0.20.0)\n",
      "Requirement already satisfied: python-dotenv>=0.13 in d:\\tarun\\anaconda3\\lib\\site-packages (from uvicorn[standard]) (1.0.0)\n",
      "Requirement already satisfied: pyyaml>=5.1 in d:\\tarun\\anaconda3\\lib\\site-packages (from uvicorn[standard]) (6.0)\n",
      "Requirement already satisfied: anyio>=3.0.0 in d:\\tarun\\anaconda3\\lib\\site-packages (from watchfiles>=0.13->uvicorn[standard]) (3.7.1)\n",
      "Requirement already satisfied: sniffio>=1.1 in d:\\tarun\\anaconda3\\lib\\site-packages (from anyio>=3.0.0->watchfiles>=0.13->uvicorn[standard]) (1.2.0)\n",
      "Requirement already satisfied: idna>=2.8 in d:\\tarun\\anaconda3\\lib\\site-packages (from anyio>=3.0.0->watchfiles>=0.13->uvicorn[standard]) (3.4)\n",
      "Requirement already satisfied: exceptiongroup in d:\\tarun\\anaconda3\\lib\\site-packages (from anyio>=3.0.0->watchfiles>=0.13->uvicorn[standard]) (1.1.3)\n"
     ]
    }
   ],
   "source": [
    "# pip install \"uvicorn[standard]\""
   ]
  },
  {
   "cell_type": "code",
   "execution_count": 87,
   "id": "8e041114",
   "metadata": {},
   "outputs": [
    {
     "name": "stdout",
     "output_type": "stream",
     "text": [
      "Requirement already satisfied: uvicorn in d:\\tarun\\anaconda3\\lib\\site-packages (0.23.2)\n",
      "Requirement already satisfied: click>=7.0 in d:\\tarun\\anaconda3\\lib\\site-packages (from uvicorn) (8.0.4)\n",
      "Requirement already satisfied: h11>=0.8 in d:\\tarun\\anaconda3\\lib\\site-packages (from uvicorn) (0.14.0)\n",
      "Requirement already satisfied: typing-extensions>=4.0 in d:\\tarun\\anaconda3\\lib\\site-packages (from uvicorn) (4.7.1)\n",
      "Requirement already satisfied: colorama in d:\\tarun\\anaconda3\\lib\\site-packages (from click>=7.0->uvicorn) (0.4.6)\n",
      "Note: you may need to restart the kernel to use updated packages.\n"
     ]
    }
   ],
   "source": [
    "# pip install uvicorn"
   ]
  },
  {
   "cell_type": "code",
   "execution_count": 1,
   "id": "898bf2fd",
   "metadata": {},
   "outputs": [],
   "source": [
    "from fastapi import FastAPI"
   ]
  },
  {
   "cell_type": "code",
   "execution_count": 2,
   "id": "2723fb3f",
   "metadata": {},
   "outputs": [],
   "source": [
    "app = FastAPI()"
   ]
  },
  {
   "cell_type": "code",
   "execution_count": 3,
   "id": "d4bab4da",
   "metadata": {},
   "outputs": [],
   "source": [
    "# initialise the fast api and check if its running with hello world.\n",
    "@app.get(\"/\")\n",
    "def read_root():\n",
    "    return {\"Hello\": \"World\"}"
   ]
  },
  {
   "cell_type": "code",
   "execution_count": 22,
   "id": "da6a7f47",
   "metadata": {},
   "outputs": [],
   "source": [
    "import datetime"
   ]
  },
  {
   "cell_type": "code",
   "execution_count": 58,
   "id": "ebe61300",
   "metadata": {},
   "outputs": [],
   "source": [
    "# this method will use as a service api and will accept the input parameters as store_id, item_id and date \n",
    "#and will return the prediction on the input values.\n",
    "@app.get(\"/predict_revenue\")\n",
    "def predict_revenue(\n",
    "    store_id: str,\n",
    "    item_id: str,\n",
    "    date: str\n",
    "):\n",
    "    datetime_object = datetime.datetime.strptime(date, '%Y-%m-%d')\n",
    "    \n",
    "    pred = rf_model.predict([[\n",
    "        datetime_object.year, \n",
    "        datetime_object.month, \n",
    "        datetime_object.day, \n",
    "        encoding_map_store_id[store_id], \n",
    "        encoding_map_item_id[item_id]]])\n",
    "    return pred"
   ]
  },
  {
   "cell_type": "code",
   "execution_count": 63,
   "id": "e220c424",
   "metadata": {},
   "outputs": [
    {
     "name": "stdout",
     "output_type": "stream",
     "text": [
      "[2.27132452]\n"
     ]
    },
    {
     "name": "stderr",
     "output_type": "stream",
     "text": [
      "D:\\Tarun\\Anaconda3\\lib\\site-packages\\sklearn\\base.py:420: UserWarning: X does not have valid feature names, but LinearRegression was fitted with feature names\n",
      "  warnings.warn(\n"
     ]
    }
   ],
   "source": [
    "print(predict_revenue('WI_3', 'HOUSEHOLD_1_201', '2015-04-12'))"
   ]
  },
  {
   "cell_type": "code",
   "execution_count": null,
   "id": "61837b66",
   "metadata": {},
   "outputs": [],
   "source": []
  }
 ],
 "metadata": {
  "kernelspec": {
   "display_name": "Python 3 (ipykernel)",
   "language": "python",
   "name": "python3"
  },
  "language_info": {
   "codemirror_mode": {
    "name": "ipython",
    "version": 3
   },
   "file_extension": ".py",
   "mimetype": "text/x-python",
   "name": "python",
   "nbconvert_exporter": "python",
   "pygments_lexer": "ipython3",
   "version": "3.10.9"
  }
 },
 "nbformat": 4,
 "nbformat_minor": 5
}
