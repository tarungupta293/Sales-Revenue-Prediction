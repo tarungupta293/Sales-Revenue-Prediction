{
 "cells": [
  {
   "cell_type": "code",
   "execution_count": 4,
   "id": "b8ffa948",
   "metadata": {},
   "outputs": [],
   "source": [
    "import pandas as pd\n",
    "import glob"
   ]
  },
  {
   "cell_type": "code",
   "execution_count": 5,
   "id": "009eaa58",
   "metadata": {},
   "outputs": [],
   "source": [
    "file_pattern = 'D:\\\\Tarun\\\\UTS\\\\Subjects\\\\ADV ML\\\\output\\\\*.csv'"
   ]
  },
  {
   "cell_type": "code",
   "execution_count": 6,
   "id": "dd72192f",
   "metadata": {},
   "outputs": [],
   "source": [
    "file_list = glob.glob(file_pattern)"
   ]
  },
  {
   "cell_type": "code",
   "execution_count": 7,
   "id": "73f9992b",
   "metadata": {},
   "outputs": [],
   "source": [
    "dfs = []"
   ]
  },
  {
   "cell_type": "code",
   "execution_count": 8,
   "id": "4197d3b5",
   "metadata": {},
   "outputs": [],
   "source": [
    "for file in file_list:\n",
    "    df = pd.read_csv(file)\n",
    "    dfs.append(df)"
   ]
  },
  {
   "cell_type": "code",
   "execution_count": 9,
   "id": "33490d81",
   "metadata": {},
   "outputs": [],
   "source": [
    "combined_df = pd.concat(dfs, ignore_index=True)"
   ]
  },
  {
   "cell_type": "code",
   "execution_count": 7,
   "id": "68fb0e93",
   "metadata": {},
   "outputs": [
    {
     "data": {
      "text/plain": [
       "(1959980, 15)"
      ]
     },
     "execution_count": 7,
     "metadata": {},
     "output_type": "execute_result"
    }
   ],
   "source": [
    "combined_df.shape"
   ]
  },
  {
   "cell_type": "code",
   "execution_count": 10,
   "id": "e9deaed5",
   "metadata": {},
   "outputs": [],
   "source": [
    "df = combined_df[['store_id', 'item_id', 'date', 'sales_revenue']]"
   ]
  },
  {
   "cell_type": "code",
   "execution_count": 9,
   "id": "07cd4117",
   "metadata": {},
   "outputs": [
    {
     "data": {
      "text/html": [
       "<div>\n",
       "<style scoped>\n",
       "    .dataframe tbody tr th:only-of-type {\n",
       "        vertical-align: middle;\n",
       "    }\n",
       "\n",
       "    .dataframe tbody tr th {\n",
       "        vertical-align: top;\n",
       "    }\n",
       "\n",
       "    .dataframe thead th {\n",
       "        text-align: right;\n",
       "    }\n",
       "</style>\n",
       "<table border=\"1\" class=\"dataframe\">\n",
       "  <thead>\n",
       "    <tr style=\"text-align: right;\">\n",
       "      <th></th>\n",
       "      <th>store_id</th>\n",
       "      <th>item_id</th>\n",
       "      <th>date</th>\n",
       "      <th>sales_revenue</th>\n",
       "    </tr>\n",
       "  </thead>\n",
       "  <tbody>\n",
       "    <tr>\n",
       "      <th>0</th>\n",
       "      <td>CA_1</td>\n",
       "      <td>HOBBIES_1_001</td>\n",
       "      <td>2013-08-08</td>\n",
       "      <td>0.00</td>\n",
       "    </tr>\n",
       "    <tr>\n",
       "      <th>1</th>\n",
       "      <td>CA_1</td>\n",
       "      <td>HOBBIES_1_001</td>\n",
       "      <td>2013-09-02</td>\n",
       "      <td>8.26</td>\n",
       "    </tr>\n",
       "    <tr>\n",
       "      <th>2</th>\n",
       "      <td>CA_1</td>\n",
       "      <td>HOBBIES_1_001</td>\n",
       "      <td>2013-10-14</td>\n",
       "      <td>0.00</td>\n",
       "    </tr>\n",
       "    <tr>\n",
       "      <th>3</th>\n",
       "      <td>CA_1</td>\n",
       "      <td>HOBBIES_1_001</td>\n",
       "      <td>2013-10-15</td>\n",
       "      <td>0.00</td>\n",
       "    </tr>\n",
       "    <tr>\n",
       "      <th>4</th>\n",
       "      <td>CA_1</td>\n",
       "      <td>HOBBIES_1_001</td>\n",
       "      <td>2013-10-31</td>\n",
       "      <td>0.00</td>\n",
       "    </tr>\n",
       "  </tbody>\n",
       "</table>\n",
       "</div>"
      ],
      "text/plain": [
       "  store_id        item_id        date  sales_revenue\n",
       "0     CA_1  HOBBIES_1_001  2013-08-08           0.00\n",
       "1     CA_1  HOBBIES_1_001  2013-09-02           8.26\n",
       "2     CA_1  HOBBIES_1_001  2013-10-14           0.00\n",
       "3     CA_1  HOBBIES_1_001  2013-10-15           0.00\n",
       "4     CA_1  HOBBIES_1_001  2013-10-31           0.00"
      ]
     },
     "execution_count": 9,
     "metadata": {},
     "output_type": "execute_result"
    }
   ],
   "source": [
    "df.head(5)"
   ]
  },
  {
   "cell_type": "code",
   "execution_count": 11,
   "id": "3f8e2bc8",
   "metadata": {},
   "outputs": [],
   "source": [
    "df = df.copy()\n",
    "df['date'] = pd.to_datetime(df['date'])"
   ]
  },
  {
   "cell_type": "code",
   "execution_count": 11,
   "id": "472bf720",
   "metadata": {},
   "outputs": [
    {
     "name": "stdout",
     "output_type": "stream",
     "text": [
      "Collecting prophet\n",
      "  Downloading prophet-1.1.4-py3-none-win_amd64.whl (12.9 MB)\n",
      "     ---------------------------------------- 12.9/12.9 MB 5.4 MB/s eta 0:00:00\n",
      "Requirement already satisfied: python-dateutil>=2.8.0 in d:\\tarun\\anaconda3\\lib\\site-packages (from prophet) (2.8.2)\n",
      "Requirement already satisfied: numpy>=1.15.4 in d:\\tarun\\anaconda3\\lib\\site-packages (from prophet) (1.23.5)\n",
      "Requirement already satisfied: pandas>=1.0.4 in d:\\tarun\\anaconda3\\lib\\site-packages (from prophet) (1.5.3)\n",
      "Collecting holidays>=0.25\n",
      "  Downloading holidays-0.34-py3-none-any.whl (778 kB)\n",
      "     -------------------------------------- 778.9/778.9 kB 6.1 MB/s eta 0:00:00\n",
      "Collecting cmdstanpy>=1.0.4\n",
      "  Downloading cmdstanpy-1.2.0-py3-none-any.whl (93 kB)\n",
      "     ---------------------------------------- 93.0/93.0 kB 5.5 MB/s eta 0:00:00\n",
      "Collecting importlib-resources\n",
      "  Downloading importlib_resources-6.1.0-py3-none-any.whl (33 kB)\n",
      "Collecting LunarCalendar>=0.0.9\n",
      "  Downloading LunarCalendar-0.0.9-py2.py3-none-any.whl (18 kB)\n",
      "Requirement already satisfied: matplotlib>=2.0.0 in d:\\tarun\\anaconda3\\lib\\site-packages (from prophet) (3.7.0)\n",
      "Collecting convertdate>=2.1.2\n",
      "  Downloading convertdate-2.4.0-py3-none-any.whl (47 kB)\n",
      "     ---------------------------------------- 47.9/47.9 kB ? eta 0:00:00\n",
      "Requirement already satisfied: tqdm>=4.36.1 in d:\\tarun\\anaconda3\\lib\\site-packages (from prophet) (4.64.1)\n",
      "Collecting stanio~=0.3.0\n",
      "  Downloading stanio-0.3.0-py3-none-any.whl (6.2 kB)\n",
      "Collecting pymeeus<=1,>=0.3.13\n",
      "  Downloading PyMeeus-0.5.12.tar.gz (5.8 MB)\n",
      "     ---------------------------------------- 5.8/5.8 MB 6.1 MB/s eta 0:00:00\n",
      "  Preparing metadata (setup.py): started\n",
      "  Preparing metadata (setup.py): finished with status 'done'\n",
      "Collecting ephem>=3.7.5.3\n",
      "  Downloading ephem-4.1.4-cp310-cp310-win_amd64.whl (1.4 MB)\n",
      "     ---------------------------------------- 1.4/1.4 MB 5.7 MB/s eta 0:00:00\n",
      "Requirement already satisfied: pytz in d:\\tarun\\anaconda3\\lib\\site-packages (from LunarCalendar>=0.0.9->prophet) (2022.7)\n",
      "Requirement already satisfied: pillow>=6.2.0 in d:\\tarun\\anaconda3\\lib\\site-packages (from matplotlib>=2.0.0->prophet) (9.4.0)\n",
      "Requirement already satisfied: cycler>=0.10 in d:\\tarun\\anaconda3\\lib\\site-packages (from matplotlib>=2.0.0->prophet) (0.11.0)\n",
      "Requirement already satisfied: pyparsing>=2.3.1 in d:\\tarun\\anaconda3\\lib\\site-packages (from matplotlib>=2.0.0->prophet) (3.0.9)\n",
      "Requirement already satisfied: fonttools>=4.22.0 in d:\\tarun\\anaconda3\\lib\\site-packages (from matplotlib>=2.0.0->prophet) (4.25.0)\n",
      "Requirement already satisfied: kiwisolver>=1.0.1 in d:\\tarun\\anaconda3\\lib\\site-packages (from matplotlib>=2.0.0->prophet) (1.4.4)\n",
      "Requirement already satisfied: packaging>=20.0 in d:\\tarun\\anaconda3\\lib\\site-packages (from matplotlib>=2.0.0->prophet) (22.0)\n",
      "Requirement already satisfied: contourpy>=1.0.1 in d:\\tarun\\anaconda3\\lib\\site-packages (from matplotlib>=2.0.0->prophet) (1.0.5)\n",
      "Requirement already satisfied: six>=1.5 in d:\\tarun\\anaconda3\\lib\\site-packages (from python-dateutil>=2.8.0->prophet) (1.16.0)\n",
      "Requirement already satisfied: colorama in d:\\tarun\\anaconda3\\lib\\site-packages (from tqdm>=4.36.1->prophet) (0.4.6)\n",
      "Building wheels for collected packages: pymeeus\n",
      "  Building wheel for pymeeus (setup.py): started\n",
      "  Building wheel for pymeeus (setup.py): finished with status 'done'\n",
      "  Created wheel for pymeeus: filename=PyMeeus-0.5.12-py3-none-any.whl size=732051 sha256=eb81dd2621033c10436b870bff93c5b6eba3f28ea5015386ee04ac57ca4795ed\n",
      "  Stored in directory: c:\\users\\tarun gupta\\appdata\\local\\pip\\cache\\wheels\\74\\47\\c4\\678b0a3d5213e2f8500f3ea0f8dc3c81478e5b806c557dff58\n",
      "Successfully built pymeeus\n",
      "Installing collected packages: pymeeus, ephem, stanio, importlib-resources, convertdate, LunarCalendar, holidays, cmdstanpy, prophet\n",
      "Successfully installed LunarCalendar-0.0.9 cmdstanpy-1.2.0 convertdate-2.4.0 ephem-4.1.4 holidays-0.34 importlib-resources-6.1.0 prophet-1.1.4 pymeeus-0.5.12 stanio-0.3.0\n",
      "Note: you may need to restart the kernel to use updated packages.\n"
     ]
    }
   ],
   "source": [
    "# if prophet not installed, install by using the below command\n",
    "#pip install prophet"
   ]
  },
  {
   "cell_type": "code",
   "execution_count": 12,
   "id": "6ad4ebc5",
   "metadata": {},
   "outputs": [],
   "source": [
    "from prophet import Prophet"
   ]
  },
  {
   "cell_type": "code",
   "execution_count": 13,
   "id": "5a0aaf0b",
   "metadata": {},
   "outputs": [],
   "source": [
    "df_prophet = df[['date', 'sales_revenue']].rename(columns={'date': 'ds', 'sales_revenue': 'y'})"
   ]
  },
  {
   "cell_type": "code",
   "execution_count": 14,
   "id": "772bbc9d",
   "metadata": {},
   "outputs": [
    {
     "data": {
      "text/html": [
       "<div>\n",
       "<style scoped>\n",
       "    .dataframe tbody tr th:only-of-type {\n",
       "        vertical-align: middle;\n",
       "    }\n",
       "\n",
       "    .dataframe tbody tr th {\n",
       "        vertical-align: top;\n",
       "    }\n",
       "\n",
       "    .dataframe thead th {\n",
       "        text-align: right;\n",
       "    }\n",
       "</style>\n",
       "<table border=\"1\" class=\"dataframe\">\n",
       "  <thead>\n",
       "    <tr style=\"text-align: right;\">\n",
       "      <th></th>\n",
       "      <th>ds</th>\n",
       "      <th>y</th>\n",
       "    </tr>\n",
       "  </thead>\n",
       "  <tbody>\n",
       "    <tr>\n",
       "      <th>0</th>\n",
       "      <td>2013-08-08</td>\n",
       "      <td>0.00</td>\n",
       "    </tr>\n",
       "    <tr>\n",
       "      <th>1</th>\n",
       "      <td>2013-09-02</td>\n",
       "      <td>8.26</td>\n",
       "    </tr>\n",
       "    <tr>\n",
       "      <th>2</th>\n",
       "      <td>2013-10-14</td>\n",
       "      <td>0.00</td>\n",
       "    </tr>\n",
       "    <tr>\n",
       "      <th>3</th>\n",
       "      <td>2013-10-15</td>\n",
       "      <td>0.00</td>\n",
       "    </tr>\n",
       "    <tr>\n",
       "      <th>4</th>\n",
       "      <td>2013-10-31</td>\n",
       "      <td>0.00</td>\n",
       "    </tr>\n",
       "  </tbody>\n",
       "</table>\n",
       "</div>"
      ],
      "text/plain": [
       "          ds     y\n",
       "0 2013-08-08  0.00\n",
       "1 2013-09-02  8.26\n",
       "2 2013-10-14  0.00\n",
       "3 2013-10-15  0.00\n",
       "4 2013-10-31  0.00"
      ]
     },
     "execution_count": 14,
     "metadata": {},
     "output_type": "execute_result"
    }
   ],
   "source": [
    "df_prophet.head(5)"
   ]
  },
  {
   "cell_type": "code",
   "execution_count": 14,
   "id": "1c24c224",
   "metadata": {},
   "outputs": [],
   "source": [
    "model = Prophet(yearly_seasonality=True, weekly_seasonality=True, daily_seasonality=True)"
   ]
  },
  {
   "cell_type": "code",
   "execution_count": 15,
   "id": "ba77ab14",
   "metadata": {},
   "outputs": [
    {
     "name": "stderr",
     "output_type": "stream",
     "text": [
      "20:16:45 - cmdstanpy - INFO - Chain [1] start processing\n",
      "\n",
      "KeyboardInterrupt\n",
      "\n"
     ]
    }
   ],
   "source": [
    "model.fit(df_prophet)"
   ]
  },
  {
   "cell_type": "code",
   "execution_count": 17,
   "id": "6a487bf1",
   "metadata": {},
   "outputs": [],
   "source": [
    "future = model.make_future_dataframe(periods=7)"
   ]
  },
  {
   "cell_type": "code",
   "execution_count": 18,
   "id": "462d7c39",
   "metadata": {},
   "outputs": [],
   "source": [
    "forecast = model.predict(future)"
   ]
  },
  {
   "cell_type": "code",
   "execution_count": 19,
   "id": "ebbd95ba",
   "metadata": {},
   "outputs": [],
   "source": [
    "forecast_next_7_days = forecast.tail(7)"
   ]
  },
  {
   "cell_type": "code",
   "execution_count": null,
   "id": "1cf2f9aa",
   "metadata": {},
   "outputs": [],
   "source": [
    "forecast = forecast_next_7_days[['ds', 'yhat']]"
   ]
  },
  {
   "cell_type": "code",
   "execution_count": 20,
   "id": "cf6bc2c0",
   "metadata": {},
   "outputs": [
    {
     "name": "stdout",
     "output_type": "stream",
     "text": [
      "            ds      yhat\n",
      "126 2015-04-13  2.958721\n",
      "127 2015-04-14  3.126900\n",
      "128 2015-04-15  2.794765\n",
      "129 2015-04-16  3.852729\n",
      "130 2015-04-17  4.309473\n",
      "131 2015-04-18  4.749066\n",
      "132 2015-04-19  3.469522\n"
     ]
    }
   ],
   "source": [
    "print(forecast)"
   ]
  },
  {
   "cell_type": "code",
   "execution_count": 1,
   "id": "8053685c",
   "metadata": {},
   "outputs": [],
   "source": [
    "from fastapi import FastAPI"
   ]
  },
  {
   "cell_type": "code",
   "execution_count": 2,
   "id": "67b9f29b",
   "metadata": {},
   "outputs": [],
   "source": [
    "app = FastAPI()"
   ]
  },
  {
   "cell_type": "code",
   "execution_count": 3,
   "id": "2d7f2bf4",
   "metadata": {},
   "outputs": [],
   "source": [
    "@app.get(\"/\")\n",
    "def read_root():\n",
    "    return {\"Hello\": \"World\"}"
   ]
  },
  {
   "cell_type": "code",
   "execution_count": null,
   "id": "a7761930",
   "metadata": {},
   "outputs": [],
   "source": [
    "@app.get(\"/predict_revenue\")\n",
    "def forecast_revenue_next_7_days():\n",
    "    return forecast"
   ]
  }
 ],
 "metadata": {
  "kernelspec": {
   "display_name": "Python 3 (ipykernel)",
   "language": "python",
   "name": "python3"
  },
  "language_info": {
   "codemirror_mode": {
    "name": "ipython",
    "version": 3
   },
   "file_extension": ".py",
   "mimetype": "text/x-python",
   "name": "python",
   "nbconvert_exporter": "python",
   "pygments_lexer": "ipython3",
   "version": "3.10.9"
  }
 },
 "nbformat": 4,
 "nbformat_minor": 5
}
